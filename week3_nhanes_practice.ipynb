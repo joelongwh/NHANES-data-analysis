{
 "cells": [
  {
   "cell_type": "markdown",
   "metadata": {},
   "source": [
    "# Practice notebook for regression analysis with dependent data in NHANES\n",
    "\n",
    "This notebook will give you the opportunity to perform some analyses\n",
    "using the regression methods for dependent data that we are focusing\n",
    "on in this week of the course.\n",
    "\n",
    "Enter the code in response to each question in the boxes labeled \"enter your code here\".\n",
    "Then enter your responses to the questions in the boxes labeled \"Type\n",
    "Markdown and Latex\".\n",
    "\n",
    "This notebook is based on the NHANES case study notebook for\n",
    "regression with dependent data.  Most of the code that you will need\n",
    "to write below is very similar to code that appears in the case study\n",
    "notebook.  You will need to edit code from that notebook in small ways\n",
    "to adapt it to the prompts below.\n",
    "\n",
    "To get started, we will use the same module imports and read the data\n",
    "in the same way as we did in the case study:"
   ]
  },
  {
   "cell_type": "code",
   "execution_count": 2,
   "metadata": {},
   "outputs": [],
   "source": [
    "%matplotlib inline\n",
    "import matplotlib.pyplot as plt\n",
    "import seaborn as sns\n",
    "import pandas as pd\n",
    "import statsmodels.api as sm\n",
    "import numpy as np\n",
    "\n",
    "url = \"nhanes_2015_2016.csv\"\n",
    "da = pd.read_csv(url)\n",
    "\n",
    "# Drop unused columns, drop rows with any missing values.\n",
    "vars = [\"BPXSY1\", \"BPXDI1\", \"RIDAGEYR\", \"RIAGENDR\", \"RIDRETH1\", \"DMDEDUC2\", \"BMXBMI\",\n",
    "        \"SMQ020\", \"SDMVSTRA\", \"SDMVPSU\"]\n",
    "da = da[vars].dropna()\n",
    "\n",
    "# This is the grouping variable\n",
    "da[\"group\"] = 10*da.SDMVSTRA + da.SDMVPSU"
   ]
  },
  {
   "cell_type": "markdown",
   "metadata": {},
   "source": [
    "## Question 1: \n",
    "\n",
    "Build a marginal linear model using GEE for the first measurement of diastolic blood pressure (`BPXDI1`), accounting for the grouping variable defined above.  This initial model should have no covariates, and will be used to assess the ICC of this blood pressure measure."
   ]
  },
  {
   "cell_type": "code",
   "execution_count": 3,
   "metadata": {},
   "outputs": [
    {
     "name": "stdout",
     "output_type": "stream",
     "text": [
      "The correlation between two observations in the same cluster is 0.031\n"
     ]
    }
   ],
   "source": [
    "model = sm.GEE.from_formula(\"BPXDI1 ~ 1\", groups=\"group\",\n",
    "           cov_struct=sm.cov_struct.Exchangeable(), data=da)\n",
    "result = model.fit()\n",
    "print(result.cov_struct.summary())"
   ]
  },
  {
   "cell_type": "code",
   "execution_count": 4,
   "metadata": {},
   "outputs": [
    {
     "name": "stdout",
     "output_type": "stream",
     "text": [
      "The correlation between two observations in the same cluster is 0.030\n"
     ]
    }
   ],
   "source": [
    "model = sm.GEE.from_formula(\"BPXSY1 ~ 1\", groups=\"group\",\n",
    "           cov_struct=sm.cov_struct.Exchangeable(), data=da)\n",
    "result = model.fit()\n",
    "print(result.cov_struct.summary())"
   ]
  },
  {
   "cell_type": "markdown",
   "metadata": {},
   "source": [
    "__Q1a.__ What is the ICC for diastolic blood pressure?  What can you\n",
    "  conclude by comparing it to the ICC for systolic blood pressure?"
   ]
  },
  {
   "cell_type": "markdown",
   "metadata": {},
   "source": [
    "The ICC takes on values from 0 to 1, with 1 corresponding to \"perfect clustering\" -- the values within a cluster are identical, and 0 corresponding to \"perfect independence\" -- the mean value within each cluster is identical across all the clusters.\n",
    "\n",
    "The ICC for diastolic blood pressure is very similar to that for systolic blood pressure. Hence, it can be concluded that the correlation of diastolic and systolic blood pressure between two observations in the same cluster is similar. "
   ]
  },
  {
   "cell_type": "markdown",
   "metadata": {},
   "source": [
    "## Question 2: \n",
    "\n",
    "Take your model from question 1, and add gender, age, and BMI to it as covariates."
   ]
  },
  {
   "cell_type": "code",
   "execution_count": 5,
   "metadata": {},
   "outputs": [
    {
     "name": "stdout",
     "output_type": "stream",
     "text": [
      "The correlation between two observations in the same cluster is 0.030\n"
     ]
    }
   ],
   "source": [
    "# Create a labeled version of the gender variable\n",
    "da[\"RIAGENDRx\"] = da.RIAGENDR.replace({1: \"Male\", 2: \"Female\"})\n",
    "\n",
    "model = sm.GEE.from_formula(\"BPXDI1 ~ RIAGENDRx + RIDAGEYR + BMXBMI\",\n",
    "           groups=\"group\",\n",
    "           cov_struct=sm.cov_struct.Exchangeable(), data=da)\n",
    "result = model.fit()\n",
    "print(result.cov_struct.summary())"
   ]
  },
  {
   "cell_type": "markdown",
   "metadata": {},
   "source": [
    "__Q2a.__ What is the ICC for this model?  What can you conclude by comparing it to the ICC for the model that you fit in question 1?"
   ]
  },
  {
   "cell_type": "markdown",
   "metadata": {},
   "source": [
    "The ICC for diastolic BP drops from 0.031 to 0.030. This means that when controlling for gender, age and BMI, the effect of clustering on diastolic BP is slightly less significant."
   ]
  },
  {
   "cell_type": "markdown",
   "metadata": {},
   "source": [
    "## Question 3: \n",
    "\n",
    "Split the data into separate datasets for females and for males and fit two separate marginal linear models for diastolic blood pressure, one only for females, and one only for males."
   ]
  },
  {
   "cell_type": "code",
   "execution_count": 15,
   "metadata": {},
   "outputs": [
    {
     "name": "stdout",
     "output_type": "stream",
     "text": [
      "           female_params  female_SE  male_params   male_SE\n",
      "Intercept      65.750510   1.347957    66.894894  1.750734\n",
      "RIDAGEYR       -0.019222   0.019262    -0.066136  0.016754\n",
      "BMXBMI          0.132351   0.030256     0.265171  0.054721\n"
     ]
    }
   ],
   "source": [
    "# Split the data into separate datasets for females and for males\n",
    "df = da.loc[da.RIAGENDRx == \"Female\",:]\n",
    "dm = da.loc[da.RIAGENDRx == \"Male\",:]\n",
    "\n",
    "# Fit a marginal linear model for diastolic BP for females\n",
    "model_female = sm.GEE.from_formula(\"BPXDI1 ~ RIAGENDRx + RIDAGEYR + BMXBMI\",\n",
    "           groups=\"group\",\n",
    "           cov_struct=sm.cov_struct.Exchangeable(), data=df)\n",
    "result_female = model_female.fit()\n",
    "\n",
    "# Fit a marginal linear model for diastolic BP for males\n",
    "model_male = sm.GEE.from_formula(\"BPXDI1 ~ RIAGENDRx + RIDAGEYR + BMXBMI\",\n",
    "           groups=\"group\",\n",
    "           cov_struct=sm.cov_struct.Exchangeable(), data=dm)\n",
    "result_male = model_male.fit()\n",
    "\n",
    "x = pd.DataFrame({\"female_params\": result_female.params, \"female_SE\": result_female.bse,\n",
    "                  \"male_params\": result_male.params, \"male_SE\": result_male.bse})\n",
    "x = x[[\"female_params\", \"female_SE\", \"male_params\", \"male_SE\"]]\n",
    "print(x)"
   ]
  },
  {
   "cell_type": "markdown",
   "metadata": {},
   "source": [
    "__Q3a.__ What do you learn by comparing these two fitted models?"
   ]
  },
  {
   "cell_type": "markdown",
   "metadata": {},
   "source": [
    "By comparing these two fitted models, it can be concluded that across all clusters:\n",
    "1) An increase in age results in a decrease in diastolic blood pressure for both females and males (this decrease is more significant for males)\n",
    "2) An increase in BMI results in an increase in diastolic blood pressure for both females and males (this increase is more significant for males) \n",
    "3) The standard error for males tends to be higher for the parameters possibly due to the lower sample size for males or greater clustering effect seen in males. "
   ]
  },
  {
   "cell_type": "markdown",
   "metadata": {},
   "source": [
    "## Question 4: \n",
    "\n",
    "Using the entire data set, fit a multilevel model for diastolic blood pressure, predicted by age, gender, BMI, and educational attainment.  Include a random intercept for groups."
   ]
  },
  {
   "cell_type": "code",
   "execution_count": 23,
   "metadata": {},
   "outputs": [
    {
     "data": {
      "text/html": [
       "<table class=\"simpletable\">\n",
       "<tr>\n",
       "       <td>Model:</td>       <td>MixedLM</td> <td>Dependent Variable:</td>   <td>BPXDI1</td>   \n",
       "</tr>\n",
       "<tr>\n",
       "  <td>No. Observations:</td>  <td>5102</td>         <td>Method:</td>          <td>REML</td>    \n",
       "</tr>\n",
       "<tr>\n",
       "     <td>No. Groups:</td>      <td>30</td>          <td>Scale:</td>         <td>154.2055</td>  \n",
       "</tr>\n",
       "<tr>\n",
       "  <td>Min. group size:</td>    <td>106</td>     <td>Log-Likelihood:</td>   <td>-20115.7588</td>\n",
       "</tr>\n",
       "<tr>\n",
       "  <td>Max. group size:</td>    <td>226</td>       <td>Converged:</td>          <td>Yes</td>    \n",
       "</tr>\n",
       "<tr>\n",
       "  <td>Mean group size:</td>   <td>170.1</td>           <td></td>                <td></td>      \n",
       "</tr>\n",
       "</table>\n",
       "<table class=\"simpletable\">\n",
       "<tr>\n",
       "           <td></td>           <th>Coef.</th> <th>Std.Err.</th>    <th>z</th>   <th>P>|z|</th> <th>[0.025</th>  <th>0.975]</th>\n",
       "</tr>\n",
       "<tr>\n",
       "  <th>Intercept</th>          <td>64.688</td>   <td>1.153</td>  <td>56.123</td> <td>0.000</td> <td>62.429</td>  <td>66.947</td>\n",
       "</tr>\n",
       "<tr>\n",
       "  <th>RIAGENDRx[T.Male]</th>   <td>2.756</td>   <td>0.351</td>   <td>7.860</td> <td>0.000</td>  <td>2.069</td>   <td>3.444</td>\n",
       "</tr>\n",
       "<tr>\n",
       "  <th>C(DMDEDUC2)[T.2.0]</th>  <td>0.736</td>   <td>0.726</td>   <td>1.013</td> <td>0.311</td> <td>-0.688</td>   <td>2.159</td>\n",
       "</tr>\n",
       "<tr>\n",
       "  <th>C(DMDEDUC2)[T.3.0]</th> <td>-0.139</td>   <td>0.644</td>  <td>-0.216</td> <td>0.829</td> <td>-1.401</td>   <td>1.122</td>\n",
       "</tr>\n",
       "<tr>\n",
       "  <th>C(DMDEDUC2)[T.4.0]</th>  <td>0.527</td>   <td>0.618</td>   <td>0.852</td> <td>0.394</td> <td>-0.685</td>   <td>1.739</td>\n",
       "</tr>\n",
       "<tr>\n",
       "  <th>C(DMDEDUC2)[T.5.0]</th>  <td>0.955</td>   <td>0.641</td>   <td>1.489</td> <td>0.137</td> <td>-0.302</td>   <td>2.212</td>\n",
       "</tr>\n",
       "<tr>\n",
       "  <th>C(DMDEDUC2)[T.9.0]</th> <td>-2.978</td>   <td>8.823</td>  <td>-0.338</td> <td>0.736</td> <td>-20.272</td> <td>14.315</td>\n",
       "</tr>\n",
       "<tr>\n",
       "  <th>RIDAGEYR</th>           <td>-0.039</td>   <td>0.010</td>  <td>-3.870</td> <td>0.000</td> <td>-0.059</td>  <td>-0.019</td>\n",
       "</tr>\n",
       "<tr>\n",
       "  <th>BMXBMI</th>              <td>0.186</td>   <td>0.026</td>   <td>7.286</td> <td>0.000</td>  <td>0.136</td>   <td>0.236</td>\n",
       "</tr>\n",
       "<tr>\n",
       "  <th>group Var</th>           <td>4.171</td>   <td>0.108</td>     <td></td>      <td></td>       <td></td>        <td></td>   \n",
       "</tr>\n",
       "</table>"
      ],
      "text/plain": [
       "<class 'statsmodels.iolib.summary2.Summary'>\n",
       "\"\"\"\n",
       "            Mixed Linear Model Regression Results\n",
       "==============================================================\n",
       "Model:               MixedLM  Dependent Variable:  BPXDI1     \n",
       "No. Observations:    5102     Method:              REML       \n",
       "No. Groups:          30       Scale:               154.2055   \n",
       "Min. group size:     106      Log-Likelihood:      -20115.7588\n",
       "Max. group size:     226      Converged:           Yes        \n",
       "Mean group size:     170.1                                    \n",
       "--------------------------------------------------------------\n",
       "                   Coef.  Std.Err.   z    P>|z|  [0.025 0.975]\n",
       "--------------------------------------------------------------\n",
       "Intercept          64.688    1.153 56.123 0.000  62.429 66.947\n",
       "RIAGENDRx[T.Male]   2.756    0.351  7.860 0.000   2.069  3.444\n",
       "C(DMDEDUC2)[T.2.0]  0.736    0.726  1.013 0.311  -0.688  2.159\n",
       "C(DMDEDUC2)[T.3.0] -0.139    0.644 -0.216 0.829  -1.401  1.122\n",
       "C(DMDEDUC2)[T.4.0]  0.527    0.618  0.852 0.394  -0.685  1.739\n",
       "C(DMDEDUC2)[T.5.0]  0.955    0.641  1.489 0.137  -0.302  2.212\n",
       "C(DMDEDUC2)[T.9.0] -2.978    8.823 -0.338 0.736 -20.272 14.315\n",
       "RIDAGEYR           -0.039    0.010 -3.870 0.000  -0.059 -0.019\n",
       "BMXBMI              0.186    0.026  7.286 0.000   0.136  0.236\n",
       "group Var           4.171    0.108                            \n",
       "==============================================================\n",
       "\n",
       "\"\"\""
      ]
     },
     "execution_count": 23,
     "metadata": {},
     "output_type": "execute_result"
    }
   ],
   "source": [
    "# Fit a multilevel (mixed effects) model to handle dependent data\n",
    "model = sm.MixedLM.from_formula(\"BPXDI1 ~ RIDAGEYR + RIAGENDRx + BMXBMI + C(DMDEDUC2)\",\n",
    "           groups=\"group\", data=da)\n",
    "result = model.fit()\n",
    "result.summary()"
   ]
  },
  {
   "cell_type": "code",
   "execution_count": 24,
   "metadata": {},
   "outputs": [
    {
     "data": {
      "text/plain": [
       "2.888252066562058"
      ]
     },
     "execution_count": 24,
     "metadata": {},
     "output_type": "execute_result"
    }
   ],
   "source": [
    "np.sqrt(2*4.171)"
   ]
  },
  {
   "cell_type": "markdown",
   "metadata": {},
   "source": [
    "__Q4a.__ How would you describe the strength of the clustering in this analysis?"
   ]
  },
  {
   "cell_type": "markdown",
   "metadata": {},
   "source": [
    "The variance for groups is estimated to be 4.171. This means that if we were to choose two groups at random, their diastolic blood pressure would differ on average by around 2.89 units (this is calculated as the square root of 2*4.171) due to random effect. This is a sizable shift, comparable to the difference between females and males, or to around 74 years of aging."
   ]
  },
  {
   "cell_type": "markdown",
   "metadata": {},
   "source": [
    "__Q4b:__ Include a random intercept for age, and describe your findings."
   ]
  },
  {
   "cell_type": "code",
   "execution_count": 26,
   "metadata": {
    "scrolled": false
   },
   "outputs": [
    {
     "name": "stderr",
     "output_type": "stream",
     "text": [
      "/opt/anaconda3/lib/python3.8/site-packages/statsmodels/regression/mixed_linear_model.py:2237: ConvergenceWarning: The MLE may be on the boundary of the parameter space.\n",
      "  warnings.warn(msg, ConvergenceWarning)\n"
     ]
    },
    {
     "data": {
      "text/html": [
       "<table class=\"simpletable\">\n",
       "<tr>\n",
       "       <td>Model:</td>       <td>MixedLM</td> <td>Dependent Variable:</td>   <td>BPXDI1</td>   \n",
       "</tr>\n",
       "<tr>\n",
       "  <td>No. Observations:</td>  <td>5102</td>         <td>Method:</td>          <td>REML</td>    \n",
       "</tr>\n",
       "<tr>\n",
       "     <td>No. Groups:</td>      <td>30</td>          <td>Scale:</td>         <td>157.7332</td>  \n",
       "</tr>\n",
       "<tr>\n",
       "  <td>Min. group size:</td>    <td>106</td>     <td>Log-Likelihood:</td>   <td>-20159.6320</td>\n",
       "</tr>\n",
       "<tr>\n",
       "  <td>Max. group size:</td>    <td>226</td>       <td>Converged:</td>          <td>Yes</td>    \n",
       "</tr>\n",
       "<tr>\n",
       "  <td>Mean group size:</td>   <td>170.1</td>           <td></td>                <td></td>      \n",
       "</tr>\n",
       "</table>\n",
       "<table class=\"simpletable\">\n",
       "<tr>\n",
       "           <td></td>           <th>Coef.</th> <th>Std.Err.</th>    <th>z</th>   <th>P>|z|</th> <th>[0.025</th>  <th>0.975]</th>\n",
       "</tr>\n",
       "<tr>\n",
       "  <th>Intercept</th>          <td>62.754</td>   <td>0.941</td>  <td>66.706</td> <td>0.000</td> <td>60.910</td>  <td>64.598</td>\n",
       "</tr>\n",
       "<tr>\n",
       "  <th>RIAGENDRx[T.Male]</th>   <td>2.821</td>   <td>0.354</td>   <td>7.959</td> <td>0.000</td>  <td>2.126</td>   <td>3.515</td>\n",
       "</tr>\n",
       "<tr>\n",
       "  <th>C(DMDEDUC2)[T.2.0]</th>  <td>0.812</td>   <td>0.729</td>   <td>1.113</td> <td>0.266</td> <td>-0.618</td>   <td>2.241</td>\n",
       "</tr>\n",
       "<tr>\n",
       "  <th>C(DMDEDUC2)[T.3.0]</th> <td>-0.141</td>   <td>0.642</td>  <td>-0.220</td> <td>0.826</td> <td>-1.399</td>   <td>1.116</td>\n",
       "</tr>\n",
       "<tr>\n",
       "  <th>C(DMDEDUC2)[T.4.0]</th>  <td>0.707</td>   <td>0.614</td>   <td>1.151</td> <td>0.250</td> <td>-0.497</td>   <td>1.912</td>\n",
       "</tr>\n",
       "<tr>\n",
       "  <th>C(DMDEDUC2)[T.5.0]</th>  <td>1.339</td>   <td>0.630</td>   <td>2.125</td> <td>0.034</td>  <td>0.104</td>   <td>2.575</td>\n",
       "</tr>\n",
       "<tr>\n",
       "  <th>C(DMDEDUC2)[T.9.0]</th> <td>-4.389</td>   <td>8.924</td>  <td>-0.492</td> <td>0.623</td> <td>-21.879</td> <td>13.102</td>\n",
       "</tr>\n",
       "<tr>\n",
       "  <th>age_cen</th>            <td>-0.033</td>   <td>0.015</td>  <td>-2.185</td> <td>0.029</td> <td>-0.063</td>  <td>-0.003</td>\n",
       "</tr>\n",
       "<tr>\n",
       "  <th>BMXBMI</th>              <td>0.175</td>   <td>0.025</td>   <td>6.869</td> <td>0.000</td>  <td>0.125</td>   <td>0.225</td>\n",
       "</tr>\n",
       "<tr>\n",
       "  <th>age_cen Var</th>         <td>0.004</td>   <td>0.000</td>     <td></td>      <td></td>       <td></td>        <td></td>   \n",
       "</tr>\n",
       "</table>"
      ],
      "text/plain": [
       "<class 'statsmodels.iolib.summary2.Summary'>\n",
       "\"\"\"\n",
       "            Mixed Linear Model Regression Results\n",
       "==============================================================\n",
       "Model:               MixedLM  Dependent Variable:  BPXDI1     \n",
       "No. Observations:    5102     Method:              REML       \n",
       "No. Groups:          30       Scale:               157.7332   \n",
       "Min. group size:     106      Log-Likelihood:      -20159.6320\n",
       "Max. group size:     226      Converged:           Yes        \n",
       "Mean group size:     170.1                                    \n",
       "--------------------------------------------------------------\n",
       "                   Coef.  Std.Err.   z    P>|z|  [0.025 0.975]\n",
       "--------------------------------------------------------------\n",
       "Intercept          62.754    0.941 66.706 0.000  60.910 64.598\n",
       "RIAGENDRx[T.Male]   2.821    0.354  7.959 0.000   2.126  3.515\n",
       "C(DMDEDUC2)[T.2.0]  0.812    0.729  1.113 0.266  -0.618  2.241\n",
       "C(DMDEDUC2)[T.3.0] -0.141    0.642 -0.220 0.826  -1.399  1.116\n",
       "C(DMDEDUC2)[T.4.0]  0.707    0.614  1.151 0.250  -0.497  1.912\n",
       "C(DMDEDUC2)[T.5.0]  1.339    0.630  2.125 0.034   0.104  2.575\n",
       "C(DMDEDUC2)[T.9.0] -4.389    8.924 -0.492 0.623 -21.879 13.102\n",
       "age_cen            -0.033    0.015 -2.185 0.029  -0.063 -0.003\n",
       "BMXBMI              0.175    0.025  6.869 0.000   0.125  0.225\n",
       "age_cen Var         0.004    0.000                            \n",
       "==============================================================\n",
       "\n",
       "\"\"\""
      ]
     },
     "execution_count": 26,
     "metadata": {},
     "output_type": "execute_result"
    }
   ],
   "source": [
    "da[\"age_cen\"] = da.groupby(\"group\").RIDAGEYR.transform(lambda x: x - x.mean())\n",
    "\n",
    "model = sm.MixedLM.from_formula(\"BPXDI1 ~ age_cen + RIAGENDRx + BMXBMI + C(DMDEDUC2)\",\n",
    "           groups=\"group\", vc_formula={\"age_cen\": \"0+age_cen\"}, data=da)\n",
    "result = model.fit()\n",
    "result.summary()"
   ]
  },
  {
   "cell_type": "code",
   "execution_count": 28,
   "metadata": {},
   "outputs": [
    {
     "data": {
      "text/plain": [
       "-0.093"
      ]
     },
     "execution_count": 28,
     "metadata": {},
     "output_type": "execute_result"
    }
   ],
   "source": [
    "-0.033 - 0.06"
   ]
  },
  {
   "cell_type": "markdown",
   "metadata": {},
   "source": [
    "We see that the estimated variance for random age slopes is 0.004, which translates to a standard deviation of 0.06. That is, from one cluster to another, the age slopes fluctuate by  ±0.06−0.12  (1-2 standard deviations). These cluster-specific fluctuations are added/subtracted from the fixed effect for age, which is -0.033. Thus, in some clusters DBP may increase by around -0.033 + 0.06 = 0.027 mm/Hg per year, while in other clusters DBP may decrease by around -0.033 - 0.06 = -0.093 mm/Hg per year. Note also that the fitting algorithm produces a warning that the estimated variance parameter is close to the boundary. In this case, however, the algorithm seems to have converged to a point just short of the boundary."
   ]
  }
 ],
 "metadata": {
  "kernelspec": {
   "display_name": "Python 3",
   "language": "python",
   "name": "python3"
  },
  "language_info": {
   "codemirror_mode": {
    "name": "ipython",
    "version": 3
   },
   "file_extension": ".py",
   "mimetype": "text/x-python",
   "name": "python",
   "nbconvert_exporter": "python",
   "pygments_lexer": "ipython3",
   "version": "3.8.8"
  }
 },
 "nbformat": 4,
 "nbformat_minor": 1
}
