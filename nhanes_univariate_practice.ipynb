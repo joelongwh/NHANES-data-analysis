{
 "cells": [
  {
   "cell_type": "markdown",
   "metadata": {},
   "source": [
    "# Practice notebook for univariate analysis using NHANES data\n",
    "\n",
    "This notebook will give you the opportunity to perform some univariate analyses on your own using the NHANES.  These analyses are similar to what was done in the week 2 NHANES case study notebook.\n",
    "\n",
    "You can enter your code into the cells that say \"enter your code here\", and you can type responses to the questions into the cells that say \"Type Markdown and Latex\".\n",
    "\n",
    "Note that most of the code that you will need to write below is very similar to code that appears in the case study notebook.  You will need to edit code from that notebook in small ways to adapt it to the prompts below.\n",
    "\n",
    "To get started, we will use the same module imports and read the data in the same way as we did in the case study:"
   ]
  },
  {
   "cell_type": "code",
   "execution_count": 1,
   "metadata": {},
   "outputs": [],
   "source": [
    "%matplotlib inline\n",
    "import matplotlib.pyplot as plt\n",
    "import seaborn as sns\n",
    "import pandas as pd\n",
    "import statsmodels.api as sm\n",
    "import numpy as np\n",
    "\n",
    "da = pd.read_csv(\"nhanes_2015_2016.csv\")"
   ]
  },
  {
   "cell_type": "markdown",
   "metadata": {},
   "source": [
    "## Question 1\n",
    "\n",
    "Relabel the marital status variable [DMDMARTL](https://wwwn.cdc.gov/Nchs/Nhanes/2015-2016/DEMO_I.htm#DMDMARTL) to have brief but informative character labels.  Then construct a frequency table of these values for all people, then for women only, and for men only.  Then construct these three frequency tables using only people whose age is between 30 and 40."
   ]
  },
  {
   "cell_type": "code",
   "execution_count": 2,
   "metadata": {},
   "outputs": [],
   "source": [
    "# Relabel the marital status variable to have character labels\n",
    "da[\"DMDMARTLx\"] = da.DMDMARTL.replace({1: \"Married\", 2: \"Widowed\", 3: \"Divorced\", 4: \"Separated\", \n",
    "                                       5: \"Never married\", 6: \"Living with partner\", 77: \"Refused\", 99: \"Don't know\"})\n",
    "da[\"DMDMARTLx\"] = da.DMDMARTLx.fillna(\"Missing\")\n",
    "\n",
    "# Relabel the gender variable to have character labels\n",
    "da[\"RIAGENDRx\"] = da.RIAGENDR.replace({1: \"Male\", 2: \"Female\"})\n",
    "\n",
    "# Construct frequency table for all people\n",
    "everyone = da.DMDMARTLx.value_counts()\n",
    "everyone_norm = da.DMDMARTLx.value_counts(normalize=True)\n",
    "\n",
    "# Construct frequency table for women only\n",
    "female = da.loc[da[\"RIAGENDRx\"] == \"Female\"][\"DMDMARTLx\"].value_counts()\n",
    "female_norm = da.loc[da[\"RIAGENDRx\"] == \"Female\"][\"DMDMARTLx\"].value_counts(normalize=True)\n",
    "\n",
    "# Construct frequency table for men only\n",
    "male = da.loc[da[\"RIAGENDRx\"] == \"Male\"][\"DMDMARTLx\"].value_counts()\n",
    "male_norm = da.loc[da[\"RIAGENDRx\"] == \"Male\"][\"DMDMARTLx\"].value_counts(normalize=True)\n",
    "\n",
    "# Construct bin for people whose age is between 30 and 40\n",
    "da[\"agegroup\"]=pd.cut(da.RIDAGEYR, bins=[31, 40], right=False)\n",
    "\n",
    "# Construct frequency table for everyone whose age is between 30 and 40\n",
    "age = da.groupby(\"agegroup\")[\"DMDMARTLx\"].value_counts()\n",
    "age_norm = da.groupby(\"agegroup\")[\"DMDMARTLx\"].value_counts(normalize=True)\n",
    "\n",
    "# Construct frequency table for women whose age is between 30 and 40\n",
    "female30 = da.loc[da[\"RIAGENDRx\"] == \"Female\"].groupby([\"agegroup\"])[\"DMDMARTLx\"].value_counts()\n",
    "female30_norm = da.loc[da[\"RIAGENDRx\"] == \"Female\"].groupby([\"agegroup\"])[\"DMDMARTLx\"].value_counts(normalize=True)\n",
    "\n",
    "# Construct frequency table for men whose age is between 30 and 40\n",
    "male30 = da.loc[da[\"RIAGENDRx\"] == \"Male\"].groupby([\"agegroup\"])[\"DMDMARTLx\"].value_counts()\n",
    "male30_norm = da.loc[da[\"RIAGENDRx\"] == \"Male\"].groupby([\"agegroup\"])[\"DMDMARTLx\"].value_counts(normalize=True)"
   ]
  },
  {
   "cell_type": "markdown",
   "metadata": {},
   "source": [
    "__Q1a.__ Briefly comment on some of the differences that you observe between the distribution of marital status between women and men, for people of all ages."
   ]
  },
  {
   "cell_type": "code",
   "execution_count": 3,
   "metadata": {},
   "outputs": [
    {
     "name": "stdout",
     "output_type": "stream",
     "text": [
      "Frequency table for women:\n",
      "Married                0.437836\n",
      "Never married          0.174731\n",
      "Divorced               0.117608\n",
      "Widowed                0.099462\n",
      "Living with partner    0.088038\n",
      "Missing                0.042339\n",
      "Separated              0.039651\n",
      "Refused                0.000336\n",
      "Name: DMDMARTLx, dtype: float64\n",
      "\n",
      "Frequency table for men:\n",
      "Married                0.535339\n",
      "Never married          0.175426\n",
      "Living with partner    0.096049\n",
      "Divorced               0.083001\n",
      "Missing                0.048931\n",
      "Widowed                0.036245\n",
      "Separated              0.024647\n",
      "Refused                0.000362\n",
      "Name: DMDMARTLx, dtype: float64\n"
     ]
    }
   ],
   "source": [
    "print(\"Frequency table for women:\")\n",
    "print(female_norm)\n",
    "print(\"\")\n",
    "print(\"Frequency table for men:\")\n",
    "print(male_norm)"
   ]
  },
  {
   "cell_type": "raw",
   "metadata": {},
   "source": [
    "Comparison of the distribution of marital status between women and men, for people of all ages:\n",
    "1) Married: men > women\n",
    "2) Never married: men > women\n",
    "3) Divorced: women > men\n",
    "4) Widowed: women > men \n",
    "5) Living with partner: men > women\n",
    "6) Separated: women > men\n",
    "7) Refused: men > women\n",
    "8) Missing: men > women"
   ]
  },
  {
   "cell_type": "markdown",
   "metadata": {},
   "source": [
    "__Q1b.__ Briefly comment on the differences that you observe between the distribution of marital status states for women between the overall population, and for women between the ages of 30 and 40."
   ]
  },
  {
   "cell_type": "code",
   "execution_count": 4,
   "metadata": {},
   "outputs": [
    {
     "name": "stdout",
     "output_type": "stream",
     "text": [
      "Frequency table for everyone:\n",
      "Married                0.484743\n",
      "Never married          0.175065\n",
      "Divorced               0.100959\n",
      "Living with partner    0.091892\n",
      "Widowed                0.069050\n",
      "Missing                0.045510\n",
      "Separated              0.032432\n",
      "Refused                0.000349\n",
      "Name: DMDMARTLx, dtype: float64\n",
      "\n",
      "Frequency table for women:\n",
      "Married                0.437836\n",
      "Never married          0.174731\n",
      "Divorced               0.117608\n",
      "Widowed                0.099462\n",
      "Living with partner    0.088038\n",
      "Missing                0.042339\n",
      "Separated              0.039651\n",
      "Refused                0.000336\n",
      "Name: DMDMARTLx, dtype: float64\n"
     ]
    }
   ],
   "source": [
    "print(\"Frequency table for everyone:\")\n",
    "print(everyone_norm)\n",
    "print(\"\")\n",
    "print(\"Frequency table for women:\")\n",
    "print(female_norm)"
   ]
  },
  {
   "cell_type": "raw",
   "metadata": {},
   "source": [
    "Comparison of the differences between the distribution of marital status between women and the overall population:\n",
    "1) The proportion of women who are divorced and widowed is greater than that in the overall population"
   ]
  },
  {
   "cell_type": "code",
   "execution_count": 5,
   "metadata": {},
   "outputs": [
    {
     "name": "stdout",
     "output_type": "stream",
     "text": [
      "Frequency table for women:\n",
      "Married                0.437836\n",
      "Never married          0.174731\n",
      "Divorced               0.117608\n",
      "Widowed                0.099462\n",
      "Living with partner    0.088038\n",
      "Missing                0.042339\n",
      "Separated              0.039651\n",
      "Refused                0.000336\n",
      "Name: DMDMARTLx, dtype: float64\n",
      "\n",
      "Frequency table for women between the ages of 30 and 40:\n",
      "agegroup  DMDMARTLx          \n",
      "[31, 40)  Married                0.539007\n",
      "          Never married          0.208038\n",
      "          Living with partner    0.130024\n",
      "          Divorced               0.082742\n",
      "          Separated              0.035461\n",
      "          Widowed                0.004728\n",
      "Name: DMDMARTLx, dtype: float64\n"
     ]
    }
   ],
   "source": [
    "print(\"Frequency table for women:\")\n",
    "print(female_norm)\n",
    "print(\"\")\n",
    "print(\"Frequency table for women between the ages of 30 and 40:\")\n",
    "print(female30_norm)"
   ]
  },
  {
   "cell_type": "raw",
   "metadata": {},
   "source": [
    "Comparison of the differences between the distribution of marital status between women of all ages and women aged between 30 and 40:\n",
    "1) The proportion of women aged between 30 and 40 who are married, never married and living with partner is greater than that in the overall female population\n",
    "2) The proportion of women aged between 30 and 40 who are divorced, separated and widowed is lesser than that in the overall female population"
   ]
  },
  {
   "cell_type": "markdown",
   "metadata": {},
   "source": [
    "__Q1c.__ Repeat part b for the men."
   ]
  },
  {
   "cell_type": "code",
   "execution_count": 6,
   "metadata": {},
   "outputs": [
    {
     "name": "stdout",
     "output_type": "stream",
     "text": [
      "Frequency table for everyone:\n",
      "Married                0.484743\n",
      "Never married          0.175065\n",
      "Divorced               0.100959\n",
      "Living with partner    0.091892\n",
      "Widowed                0.069050\n",
      "Missing                0.045510\n",
      "Separated              0.032432\n",
      "Refused                0.000349\n",
      "Name: DMDMARTLx, dtype: float64\n",
      "\n",
      "Frequency table for men:\n",
      "Married                0.535339\n",
      "Never married          0.175426\n",
      "Living with partner    0.096049\n",
      "Divorced               0.083001\n",
      "Missing                0.048931\n",
      "Widowed                0.036245\n",
      "Separated              0.024647\n",
      "Refused                0.000362\n",
      "Name: DMDMARTLx, dtype: float64\n"
     ]
    }
   ],
   "source": [
    "print(\"Frequency table for everyone:\")\n",
    "print(everyone_norm)\n",
    "print(\"\")\n",
    "print(\"Frequency table for men:\")\n",
    "print(male_norm)"
   ]
  },
  {
   "cell_type": "raw",
   "metadata": {},
   "source": [
    "Comparison of the differences between the distribution of marital status between men and the overall population:\n",
    "1) The proportion of men who are married and living with partner is greater than that in the overall population\n",
    "2) The proportion of men who are divorced, widowed and separated is lesser than that in the overall population"
   ]
  },
  {
   "cell_type": "code",
   "execution_count": 7,
   "metadata": {},
   "outputs": [
    {
     "name": "stdout",
     "output_type": "stream",
     "text": [
      "Frequency table for men:\n",
      "Married                0.535339\n",
      "Never married          0.175426\n",
      "Living with partner    0.096049\n",
      "Divorced               0.083001\n",
      "Missing                0.048931\n",
      "Widowed                0.036245\n",
      "Separated              0.024647\n",
      "Refused                0.000362\n",
      "Name: DMDMARTLx, dtype: float64\n",
      "\n",
      "Frequency table for men between the ages of 30 and 40:\n",
      "agegroup  DMDMARTLx          \n",
      "[31, 40)  Married                0.562500\n",
      "          Never married          0.194712\n",
      "          Living with partner    0.161058\n",
      "          Divorced               0.048077\n",
      "          Separated              0.026442\n",
      "          Widowed                0.004808\n",
      "          Refused                0.002404\n",
      "Name: DMDMARTLx, dtype: float64\n"
     ]
    }
   ],
   "source": [
    "print(\"Frequency table for men:\")\n",
    "print(male_norm)\n",
    "print(\"\")\n",
    "print(\"Frequency table for men between the ages of 30 and 40:\")\n",
    "print(male30_norm)"
   ]
  },
  {
   "cell_type": "raw",
   "metadata": {},
   "source": [
    "Comparison of the differences between the distribution of marital status between men of all ages and women aged between 30 and 40:\n",
    "1) The proportion of men aged between 30 and 40 who are married, never married, separated and living with partner is greater than that in the overall male population\n",
    "2) The proportion of men aged between 30 and 40 who are divorced and widowed is lesser than that in the overall male population"
   ]
  },
  {
   "cell_type": "markdown",
   "metadata": {},
   "source": [
    "## Question 2\n",
    "\n",
    "Restricting to the female population, stratify the subjects into age bands no wider than ten years, and construct the distribution of marital status within each age band.  Within each age band, present the distribution in terms of proportions that must sum to 1."
   ]
  },
  {
   "cell_type": "code",
   "execution_count": 8,
   "metadata": {},
   "outputs": [
    {
     "name": "stdout",
     "output_type": "stream",
     "text": [
      "DMDMARTLx  Divorced  Living with partner  Married  Never married  Refused  Separated  Widowed\n",
      "agegrp                                                                                       \n",
      "(20, 30]      0.021                0.206    0.305          0.446      NaN      0.021      NaN\n",
      "(30, 40]      0.091                0.120    0.544          0.205      NaN      0.036    0.004\n",
      "(40, 50]      0.137                0.074    0.574          0.125      NaN      0.066    0.024\n",
      "(50, 60]      0.177                0.068    0.547          0.089    0.002      0.057    0.060\n",
      "(60, 70]      0.193                0.043    0.481          0.086      NaN      0.050    0.147\n",
      "(70, 80]      0.144                0.007    0.317          0.051      NaN      0.020    0.461\n"
     ]
    }
   ],
   "source": [
    "# Cut age into bands no wider than 10 years\n",
    "da[\"agegrp\"] = pd.cut(da.RIDAGEYR, [20, 30, 40, 50, 60, 70, 80])\n",
    "\n",
    "# Eliminate rare/missing values\n",
    "df = da.loc[~da.DMDMARTLx.isin([\"Don't know\", \"Missing\"]), :]\n",
    "\n",
    "# Group marital status by age group band and subset the data to include only females\n",
    "df = df.loc[df[\"RIAGENDRx\"] == \"Female\"].groupby([\"agegrp\"])[\"DMDMARTLx\"]\n",
    "\n",
    "# obtain the counts for marital status within each age group band for females\n",
    "df = df.value_counts(normalize=True) # Normalize\n",
    "df = df.unstack() # Restructure results from long to wide\n",
    "print(df.to_string(float_format=\"%.3f\")) # Limit display to 3 d.p."
   ]
  },
  {
   "cell_type": "markdown",
   "metadata": {},
   "source": [
    "__Q2a.__ Comment on the trends that you see in this series of marginal distributions."
   ]
  },
  {
   "cell_type": "raw",
   "metadata": {},
   "source": [
    "1) The proportion of divorced women generally increases with age\n",
    "2) The proportion of women living with partner decreases with age\n",
    "3) The proportion of women never married decreases with age\n",
    "4) The proportion of women widowed increases with age"
   ]
  },
  {
   "cell_type": "markdown",
   "metadata": {},
   "source": [
    "__Q2b.__ Repeat the construction for males."
   ]
  },
  {
   "cell_type": "code",
   "execution_count": 9,
   "metadata": {},
   "outputs": [
    {
     "name": "stdout",
     "output_type": "stream",
     "text": [
      "DMDMARTLx  Divorced  Living with partner  Married  Never married  Refused  Separated  Widowed\n",
      "agegrp                                                                                       \n",
      "(20, 30]      0.005                0.213    0.238          0.523      NaN      0.016    0.005\n",
      "(30, 40]      0.052                0.157    0.563          0.194    0.002      0.026    0.004\n",
      "(40, 50]      0.085                0.082    0.703          0.097      NaN      0.027    0.005\n",
      "(50, 60]      0.126                0.075    0.652          0.104      NaN      0.022    0.022\n",
      "(60, 70]      0.126                0.050    0.666          0.087      NaN      0.032    0.039\n",
      "(70, 80]      0.142                0.022    0.612          0.022      NaN      0.035    0.167\n"
     ]
    }
   ],
   "source": [
    "# Eliminate rare/missing values\n",
    "dm = da.loc[~da.DMDMARTLx.isin([\"Don't know\", \"Missing\"]), :]\n",
    "\n",
    "# Group marital status by age group band and subset the data to include only females\n",
    "dm = dm.loc[dm[\"RIAGENDRx\"] == \"Male\"].groupby([\"agegrp\"])[\"DMDMARTLx\"]\n",
    "\n",
    "# obtain the counts for marital status within each age group band for males\n",
    "dm = dm.value_counts(normalize=True) # Normalize\n",
    "dm = dm.unstack() # Restructure results from long to wide\n",
    "print(dm.to_string(float_format=\"%.3f\")) # Limit display to 3 d.p."
   ]
  },
  {
   "cell_type": "raw",
   "metadata": {},
   "source": [
    "1) The proportion of divorced men increases with age\n",
    "2) The proportion of men living with partner decreases with age\n",
    "3) The proportion of men never married generally decreases with age\n",
    "4) The proportion of men separated generally increases with age\n",
    "4) The proportion of men widowed generally increases with age"
   ]
  },
  {
   "cell_type": "code",
   "execution_count": 10,
   "metadata": {},
   "outputs": [
    {
     "name": "stdout",
     "output_type": "stream",
     "text": [
      "Female:\n",
      "DMDMARTLx  Divorced  Living with partner  Married  Never married  Refused  Separated  Widowed\n",
      "agegrp                                                                                       \n",
      "(20, 30]      0.021                0.206    0.305          0.446      NaN      0.021      NaN\n",
      "(30, 40]      0.091                0.120    0.544          0.205      NaN      0.036    0.004\n",
      "(40, 50]      0.137                0.074    0.574          0.125      NaN      0.066    0.024\n",
      "(50, 60]      0.177                0.068    0.547          0.089    0.002      0.057    0.060\n",
      "(60, 70]      0.193                0.043    0.481          0.086      NaN      0.050    0.147\n",
      "(70, 80]      0.144                0.007    0.317          0.051      NaN      0.020    0.461\n",
      "\n",
      "Male:\n",
      "DMDMARTLx  Divorced  Living with partner  Married  Never married  Refused  Separated  Widowed\n",
      "agegrp                                                                                       \n",
      "(20, 30]      0.005                0.213    0.238          0.523      NaN      0.016    0.005\n",
      "(30, 40]      0.052                0.157    0.563          0.194    0.002      0.026    0.004\n",
      "(40, 50]      0.085                0.082    0.703          0.097      NaN      0.027    0.005\n",
      "(50, 60]      0.126                0.075    0.652          0.104      NaN      0.022    0.022\n",
      "(60, 70]      0.126                0.050    0.666          0.087      NaN      0.032    0.039\n",
      "(70, 80]      0.142                0.022    0.612          0.022      NaN      0.035    0.167\n",
      "\n"
     ]
    }
   ],
   "source": [
    "print(\"Female:\")\n",
    "print(df.to_string(float_format=\"%.3f\"))\n",
    "print(\"\")\n",
    "print(\"Male:\")\n",
    "print(dm.to_string(float_format=\"%.3f\"))\n",
    "print(\"\")"
   ]
  },
  {
   "cell_type": "markdown",
   "metadata": {},
   "source": [
    "__Q2c.__ Comment on any notable differences that you see when comparing these results for females and for males."
   ]
  },
  {
   "cell_type": "raw",
   "metadata": {},
   "source": [
    "1) There is a higher proportion of males married between ages 50 to 80 compared to females"
   ]
  },
  {
   "cell_type": "markdown",
   "metadata": {},
   "source": [
    "## Question 3\n",
    "\n",
    "Construct a histogram of the distribution of heights using the BMXHT variable in the NHANES sample."
   ]
  },
  {
   "cell_type": "code",
   "execution_count": 11,
   "metadata": {},
   "outputs": [
    {
     "data": {
      "text/plain": [
       "<AxesSubplot:xlabel='BMXHT', ylabel='Count'>"
      ]
     },
     "execution_count": 11,
     "metadata": {},
     "output_type": "execute_result"
    },
    {
     "data": {
      "image/png": "[encoded data removed]",
      "text/plain": [
       "<Figure size 432x288 with 1 Axes>"
      ]
     },
     "metadata": {
      "needs_background": "light"
     },
     "output_type": "display_data"
    }
   ],
   "source": [
    "sns.histplot(da.BMXHT.dropna())"
   ]
  },
  {
   "cell_type": "code",
   "execution_count": 12,
   "metadata": {},
   "outputs": [
    {
     "data": {
      "text/plain": [
       "<AxesSubplot:xlabel='BMXHT', ylabel='Count'>"
      ]
     },
     "execution_count": 12,
     "metadata": {},
     "output_type": "execute_result"
    },
    {
     "data": {
      "image/png": "[encoded data removed]",
      "text/plain": [
       "<Figure size 432x288 with 1 Axes>"
      ]
     },
     "metadata": {
      "needs_background": "light"
     },
     "output_type": "display_data"
    }
   ],
   "source": [
    "sns.histplot(da.BMXHT.dropna(), bins=1000)"
   ]
  },
  {
   "cell_type": "code",
   "execution_count": 13,
   "metadata": {},
   "outputs": [
    {
     "data": {
      "text/plain": [
       "<AxesSubplot:xlabel='BMXHT', ylabel='Count'>"
      ]
     },
     "execution_count": 13,
     "metadata": {},
     "output_type": "execute_result"
    },
    {
     "data": {
      "image/png": "[encoded data removed]",
      "text/plain": [
       "<Figure size 432x288 with 1 Axes>"
      ]
     },
     "metadata": {
      "needs_background": "light"
     },
     "output_type": "display_data"
    }
   ],
   "source": [
    "sns.histplot(da.BMXHT.dropna(), bins=10)"
   ]
  },
  {
   "cell_type": "markdown",
   "metadata": {},
   "source": [
    "__Q3a.__ Use the `bins` argument to [distplot](https://seaborn.pydata.org/generated/seaborn.distplot.html) to produce histograms with different numbers of bins.  Assess whether the default value for this argument gives a meaningful result, and comment on what happens as the number of bins grows excessively large or excessively small. "
   ]
  },
  {
   "cell_type": "raw",
   "metadata": {},
   "source": [
    "Number of bins grows excessively large --> unable to determine the height for each count\n",
    "Number of bins grows excessively small --> unable to determine the specific estimated counts for each height"
   ]
  },
  {
   "cell_type": "markdown",
   "metadata": {},
   "source": [
    "__Q3b.__ Make separate histograms for the heights of women and men, then make a side-by-side boxplot showing the heights of women and men."
   ]
  },
  {
   "cell_type": "code",
   "execution_count": 14,
   "metadata": {},
   "outputs": [
    {
     "data": {
      "text/plain": [
       "<AxesSubplot:xlabel='BMXHT', ylabel='Count'>"
      ]
     },
     "execution_count": 14,
     "metadata": {},
     "output_type": "execute_result"
    },
    {
     "data": {
      "image/png": "[encoded data removed]",
      "text/plain": [
       "<Figure size 432x288 with 1 Axes>"
      ]
     },
     "metadata": {
      "needs_background": "light"
     },
     "output_type": "display_data"
    }
   ],
   "source": [
    "# Histogram for heights of women\n",
    "female_height = da.loc[da.RIAGENDRx.isin([\"Female\"]), :]\n",
    "sns.histplot(female_height.BMXHT.dropna())"
   ]
  },
  {
   "cell_type": "code",
   "execution_count": 15,
   "metadata": {},
   "outputs": [
    {
     "data": {
      "text/plain": [
       "<AxesSubplot:xlabel='BMXHT', ylabel='Count'>"
      ]
     },
     "execution_count": 15,
     "metadata": {},
     "output_type": "execute_result"
    },
    {
     "data": {
      "image/png": "[encoded data removed]",
      "text/plain": [
       "<Figure size 432x288 with 1 Axes>"
      ]
     },
     "metadata": {
      "needs_background": "light"
     },
     "output_type": "display_data"
    }
   ],
   "source": [
    "# Histogram for heights of men\n",
    "male_height = da.loc[da.RIAGENDRx.isin([\"Male\"]), :]\n",
    "sns.histplot(male_height.BMXHT.dropna())"
   ]
  },
  {
   "cell_type": "code",
   "execution_count": 16,
   "metadata": {},
   "outputs": [
    {
     "data": {
      "text/plain": [
       "<AxesSubplot:xlabel='RIAGENDRx', ylabel='BMXHT'>"
      ]
     },
     "execution_count": 16,
     "metadata": {},
     "output_type": "execute_result"
    },
    {
     "data": {
      "image/png": "[encoded data removed]",
      "text/plain": [
       "<Figure size 432x288 with 1 Axes>"
      ]
     },
     "metadata": {
      "needs_background": "light"
     },
     "output_type": "display_data"
    }
   ],
   "source": [
    "# Boxplot for heights of men and women\n",
    "sns.boxplot(x=\"RIAGENDRx\", y=\"BMXHT\", data=da)"
   ]
  },
  {
   "cell_type": "markdown",
   "metadata": {},
   "source": [
    "__Q3c.__ Comment on what features, if any are not represented clearly in the boxplots, and what features, if any, are easier to see in the boxplots than in the histograms."
   ]
  },
  {
   "cell_type": "raw",
   "metadata": {},
   "source": [
    "Easier with boxplots:\n",
    "1) To determine the mean, quartiles, range\n",
    "\n",
    "Not represented clearly in boxplots:\n",
    "1) The estimated counts for each height"
   ]
  },
  {
   "cell_type": "markdown",
   "metadata": {},
   "source": [
    "## Question 4\n",
    "\n",
    "Make a boxplot showing the distribution of within-subject differences between the first and second systolic blood pressure measurents ([BPXSY1](https://wwwn.cdc.gov/Nchs/Nhanes/2015-2016/BPX_I.htm#BPXSY1) and [BPXSY2](https://wwwn.cdc.gov/Nchs/Nhanes/2015-2016/BPX_I.htm#BPXSY2))."
   ]
  },
  {
   "cell_type": "code",
   "execution_count": 17,
   "metadata": {},
   "outputs": [
    {
     "data": {
      "text/plain": [
       "<AxesSubplot:>"
      ]
     },
     "execution_count": 17,
     "metadata": {},
     "output_type": "execute_result"
    },
    {
     "data": {
      "image/png": "[encoded data removed]",
      "text/plain": [
       "<Figure size 432x288 with 1 Axes>"
      ]
     },
     "metadata": {
      "needs_background": "light"
     },
     "output_type": "display_data"
    }
   ],
   "source": [
    "da[\"BPXSYd\"] = da.BPXSY1 - da.BPXSY2\n",
    "sns.boxplot(data=da.loc[:, [\"BPXSYd\"]])"
   ]
  },
  {
   "cell_type": "markdown",
   "metadata": {},
   "source": [
    "__Q4a.__ What proportion of the subjects have a lower SBP on the second reading compared to the first?"
   ]
  },
  {
   "cell_type": "code",
   "execution_count": 18,
   "metadata": {},
   "outputs": [
    {
     "data": {
      "text/plain": [
       "count    5369.000000\n",
       "mean        0.674986\n",
       "std         5.046465\n",
       "min       -26.000000\n",
       "25%        -2.000000\n",
       "50%         0.000000\n",
       "75%         4.000000\n",
       "max        32.000000\n",
       "Name: BPXSYd, dtype: float64"
      ]
     },
     "execution_count": 18,
     "metadata": {},
     "output_type": "execute_result"
    }
   ],
   "source": [
    "da.BPXSYd.dropna().describe()"
   ]
  },
  {
   "cell_type": "markdown",
   "metadata": {},
   "source": [
    "__Q4b.__ Make side-by-side boxplots of the two systolic blood pressure variables."
   ]
  },
  {
   "cell_type": "code",
   "execution_count": 19,
   "metadata": {},
   "outputs": [
    {
     "data": {
      "text/plain": [
       "<AxesSubplot:>"
      ]
     },
     "execution_count": 19,
     "metadata": {},
     "output_type": "execute_result"
    },
    {
     "data": {
      "image/png": "[encoded data removed]",
      "text/plain": [
       "<Figure size 432x288 with 1 Axes>"
      ]
     },
     "metadata": {
      "needs_background": "light"
     },
     "output_type": "display_data"
    }
   ],
   "source": [
    "sns.boxplot(data=da.loc[:, [\"BPXSY1\", \"BPXSY2\"]])"
   ]
  },
  {
   "cell_type": "markdown",
   "metadata": {},
   "source": [
    "__Q4c.__ Comment on the variation within either the first or second systolic blood pressure measurements, and the variation in the within-subject differences between the first and second systolic blood pressure measurements."
   ]
  },
  {
   "cell_type": "raw",
   "metadata": {},
   "source": [
    "There is minimal variation between the first or second systolic blood pressure measurements as can be seen from the almost identical box plots for BPXSY1 and BPXSY2.\n",
    "\n",
    "This can be confirmed from the median obtained from the variation in the within-subject differences between the first and second systolic blood pressure measurements, which shows that exactly 50% of subjects have a lower SBP on the second reading compared to the first.\n",
    "\n",
    "However, the mean is slightly higher than the median, showing that the data is skewed to the right and there are instances where certain subjects might have a relatively higher SBP on the first reading compared to the second."
   ]
  },
  {
   "cell_type": "markdown",
   "metadata": {},
   "source": [
    "## Question 5\n",
    "\n",
    "Construct a frequency table of household sizes for people within each educational attainment category (the relevant variable is [DMDEDUC2](https://wwwn.cdc.gov/Nchs/Nhanes/2015-2016/DEMO_I.htm#DMDEDUC2)).  Convert the frequencies to proportions."
   ]
  },
  {
   "cell_type": "code",
   "execution_count": 20,
   "metadata": {},
   "outputs": [
    {
     "name": "stdout",
     "output_type": "stream",
     "text": [
      "DMDHHSIZ              1     2     3     4     5     6     7\n",
      "DMDEDUC2x                                                  \n",
      "A:<9              0.110 0.224 0.147 0.133 0.148 0.108 0.130\n",
      "B:9-11            0.117 0.222 0.163 0.152 0.146 0.114 0.086\n",
      "C:HS/GED          0.153 0.271 0.171 0.162 0.110 0.066 0.068\n",
      "D:Some college/AA 0.151 0.269 0.193 0.169 0.122 0.051 0.045\n",
      "E:College         0.143 0.348 0.194 0.165 0.095 0.029 0.026\n",
      "G:Don't know        NaN 0.667   NaN   NaN 0.333   NaN   NaN\n"
     ]
    }
   ],
   "source": [
    "# Recode educational attainment category\n",
    "da[\"DMDEDUC2x\"] = da.DMDEDUC2.replace({1: \"A:<9\", 2: \"B:9-11\", 3: \"C:HS/GED\", 4: \"D:Some college/AA\", 5: \"E:College\", \n",
    "                                       7: \"F:Refused\", 9: \"G:Don't know\"})\n",
    "\n",
    "# Obtain counts for each level of household\n",
    "hhsiz = da.groupby([\"DMDEDUC2x\"])[\"DMDHHSIZ\"].value_counts(normalize=True)\n",
    "\n",
    "# Restructure the results from long to wide\n",
    "hhsiz = hhsiz.unstack()\n",
    "\n",
    "#Print the results and format to 3 d.p.\n",
    "print(hhsiz.to_string(float_format=\"%.3f\"))"
   ]
  },
  {
   "cell_type": "markdown",
   "metadata": {},
   "source": [
    "__Q5a.__ Comment on any major differences among the distributions."
   ]
  },
  {
   "cell_type": "raw",
   "metadata": {},
   "source": [
    "The higher the educational attainment, the smaller the household size. Most people with higher educational attainment have household sizes of 2. "
   ]
  },
  {
   "cell_type": "markdown",
   "metadata": {},
   "source": [
    "__Q5b.__ Restrict the sample to people between 30 and 40 years of age.  Then calculate the median household size for women and men within each level of educational attainment."
   ]
  },
  {
   "cell_type": "code",
   "execution_count": 21,
   "metadata": {},
   "outputs": [
    {
     "name": "stdout",
     "output_type": "stream",
     "text": [
      "agegroup  RIAGENDRx  DMDEDUC2x        \n",
      "[31, 40)  Female     A:<9                 5.0\n",
      "                     B:9-11               5.0\n",
      "                     C:HS/GED             5.0\n",
      "                     D:Some college/AA    4.0\n",
      "                     E:College            4.0\n",
      "          Male       A:<9                 5.0\n",
      "                     B:9-11               5.0\n",
      "                     C:HS/GED             4.0\n",
      "                     D:Some college/AA    4.0\n",
      "                     E:College            3.0\n",
      "Name: 50%, dtype: float64\n"
     ]
    }
   ],
   "source": [
    "# Obtain counts for each level of household restricted to people between 30 and 40 years of age\n",
    "hhsiz30 = da.groupby([\"agegroup\",\"RIAGENDRx\",\"DMDEDUC2x\"])[\"DMDHHSIZ\"].describe()\n",
    "\n",
    "print(hhsiz30[\"50%\"])"
   ]
  },
  {
   "cell_type": "markdown",
   "metadata": {},
   "source": [
    "## Question 6\n",
    "\n",
    "The participants can be clustered into \"maked variance units\" (MVU) based on every combination of the variables [SDMVSTRA](https://wwwn.cdc.gov/Nchs/Nhanes/2015-2016/DEMO_I.htm#SDMVSTRA) and [SDMVPSU](https://wwwn.cdc.gov/Nchs/Nhanes/2015-2016/DEMO_I.htm#SDMVPSU).  Calculate the mean age ([RIDAGEYR](https://wwwn.cdc.gov/Nchs/Nhanes/2015-2016/DEMO_I.htm#RIDAGEYR)), height ([BMXHT](https://wwwn.cdc.gov/Nchs/Nhanes/2015-2016/BMX_I.htm#BMXHT)), and BMI ([BMXBMI](https://wwwn.cdc.gov/Nchs/Nhanes/2015-2016/BMX_I.htm#BMXBMI)) for each gender ([RIAGENDR](https://wwwn.cdc.gov/Nchs/Nhanes/2015-2016/DEMO_I.htm#RIAGENDR)), within each MVU, and report the ratio between the largest and smallest mean (e.g. for height) across the MVUs."
   ]
  },
  {
   "cell_type": "code",
   "execution_count": 56,
   "metadata": {},
   "outputs": [
    {
     "name": "stdout",
     "output_type": "stream",
     "text": [
      "Age Ratios:\n",
      "Male: 1.3114871069416525\n",
      "Female: 1.3078580577111432\n",
      "\n",
      "Height Ratios:\n",
      "Male: 1.0451744119496285\n",
      "Female: 1.0479496940406412\n",
      "\n",
      "BMI Ratios:\n",
      "Male: 1.2332369443245583\n",
      "Female: 1.2460491548963397\n"
     ]
    }
   ],
   "source": [
    "# Create new dataframes for Males and Females\n",
    "dam = da.where(da.RIAGENDRx == \"Male\")\n",
    "daf = da.where(da.RIAGENDRx == \"Female\")\n",
    "\n",
    "print(\"Age Ratios:\")\n",
    "\n",
    "# Get mean and ratio between largest and smallest mean for age across every combo of SDMVSTRA and SDMVPSU for males\n",
    "magemean = dam.groupby(['SDMVSTRA','SDMVPSU'])[\"RIDAGEYR\"].mean()\n",
    "mageratio = magemean.max() / magemean.min()\n",
    "print(\"Male:\", mageratio)\n",
    "\n",
    "# Get mean and ratio between largest and smallest mean for age across every combo of SDMVSTRA and SDMVPSU for females\n",
    "fagemean = daf.groupby(['SDMVSTRA','SDMVPSU'])[\"RIDAGEYR\"].mean()\n",
    "fageratio = fagemean.max() / fagemean.min()\n",
    "print(\"Female:\", fageratio)\n",
    "\n",
    "print(\"\")\n",
    "print(\"Height Ratios:\")\n",
    "\n",
    "# Get mean and ratio between largest and smallest mean for height across every combo of SDMVSTRA and SDMVPSU for males\n",
    "mhtmean = dam.groupby(['SDMVSTRA','SDMVPSU'])[\"BMXHT\"].mean()\n",
    "mhtratio = mhtmean.max() / mhtmean.min()\n",
    "print(\"Male:\", mhtratio)\n",
    "\n",
    "# Get mean and ratio between largest and smallest mean for height across every combo of SDMVSTRA and SDMVPSU for females\n",
    "fhtmean = daf.groupby(['SDMVSTRA','SDMVPSU'])[\"BMXHT\"].mean()\n",
    "fhtratio = fhtmean.max() / fhtmean.min()\n",
    "print(\"Female:\", fhtratio)\n",
    "\n",
    "print(\"\")\n",
    "print(\"BMI Ratios:\")\n",
    "\n",
    "# Get mean and ratio between largest and smallest mean for BMI across every combo of SDMVSTRA and SDMVPSU for males\n",
    "mbmimean = dam.groupby(['SDMVSTRA','SDMVPSU'])[\"BMXBMI\"].mean()\n",
    "mbmiratio = mbmimean.max() / mbmimean.min()\n",
    "print(\"Male:\", mbmiratio)\n",
    "\n",
    "# Get mean and ratio between largest and smallest mean for BMI across every combo of SDMVSTRA and SDMVPSU for females\n",
    "fbmimean = daf.groupby(['SDMVSTRA','SDMVPSU'])[\"BMXBMI\"].mean()\n",
    "fbmiratio = fbmimean.max() / fbmimean.min()\n",
    "print(\"Female:\", fbmiratio)\n"
   ]
  },
  {
   "cell_type": "markdown",
   "metadata": {},
   "source": [
    "__Q6a.__ Comment on the extent to which mean age, height, and BMI vary among the MVUs."
   ]
  },
  {
   "cell_type": "raw",
   "metadata": {},
   "source": [
    "1) Mean height varies the least among MVUs\n",
    "2) Mean age varies the most among MVUs"
   ]
  },
  {
   "cell_type": "markdown",
   "metadata": {},
   "source": [
    "__Q6b.__ Calculate the inter-quartile range (IQR) for age, height, and BMI for each gender and each MVU.  Report the ratio between the largest and smalles IQR across the MVUs."
   ]
  },
  {
   "cell_type": "code",
   "execution_count": 70,
   "metadata": {},
   "outputs": [
    {
     "name": "stdout",
     "output_type": "stream",
     "text": [
      "Age IQR:\n",
      "Male: 1.8313253012048192\n",
      "Female: 1.625\n",
      "\n",
      "Height IQR:\n",
      "Male: 1.5870967741935498\n",
      "Female: 1.5874587458745906\n",
      "\n",
      "BMI IQR:\n",
      "Male: 1.2399553571428572\n",
      "Female: 1.308139534883721\n"
     ]
    }
   ],
   "source": [
    "print(\"Age IQR:\")\n",
    "\n",
    "# Get IQR and ratio between largest and smallest IQR for age across every combo of SDMVSTRA and SDMVPSU for males\n",
    "mage75 = dam.groupby(['SDMVSTRA','SDMVPSU'])[\"RIDAGEYR\"].quantile(0.75)\n",
    "mage25 = dam.groupby(['SDMVSTRA','SDMVPSU'])[\"RIDAGEYR\"].quantile(0.25)\n",
    "mageiqr = mage75 - mage25\n",
    "mageiqrratio = mageiqr.max() / mageiqr.min()\n",
    "print(\"Male:\", mageiqrratio)\n",
    "\n",
    "# Get IQR and ratio between largest and smallest IQR for age across every combo of SDMVSTRA and SDMVPSU for females\n",
    "fage75 = daf.groupby(['SDMVSTRA','SDMVPSU'])[\"RIDAGEYR\"].quantile(0.75)\n",
    "fage25 = daf.groupby(['SDMVSTRA','SDMVPSU'])[\"RIDAGEYR\"].quantile(0.25)\n",
    "fageiqr = fage75 - fage25\n",
    "fageiqrratio = fageiqr.max() / fageiqr.min()\n",
    "print(\"Female:\", fageiqrratio)\n",
    "\n",
    "print(\"\")\n",
    "print(\"Height IQR:\")\n",
    "\n",
    "# Get IQR and ratio between largest and smallest IQR for height across every combo of SDMVSTRA and SDMVPSU for males\n",
    "mht75 = dam.groupby(['SDMVSTRA','SDMVPSU'])[\"BMXHT\"].quantile(0.75)\n",
    "mht25 = dam.groupby(['SDMVSTRA','SDMVPSU'])[\"BMXHT\"].quantile(0.25)\n",
    "mhtiqr = mht75 - mht25\n",
    "mhtiqrratio = mhtiqr.max() / mhtiqr.min()\n",
    "print(\"Male:\", mhtiqrratio)\n",
    "\n",
    "# Get IQR and ratio between largest and smallest IQR for height across every combo of SDMVSTRA and SDMVPSU for females\n",
    "fht75 = daf.groupby(['SDMVSTRA','SDMVPSU'])[\"BMXHT\"].quantile(0.75)\n",
    "fht25 = daf.groupby(['SDMVSTRA','SDMVPSU'])[\"BMXHT\"].quantile(0.25)\n",
    "fhtiqr = fht75 - fht25\n",
    "fhtiqrratio = fhtiqr.max() / fhtiqr.min()\n",
    "print(\"Female:\", fhtiqrratio)\n",
    "\n",
    "print(\"\")\n",
    "print(\"BMI IQR:\")\n",
    "\n",
    "# Get IQR and ratio between largest and smallest IQR for BMI across every combo of SDMVSTRA and SDMVPSU for males\n",
    "mbmiiqr = dam.groupby(['SDMVSTRA','SDMVPSU'])[\"BMXBMI\"].quantile(0.75)\n",
    "mbmiiqr = dam.groupby(['SDMVSTRA','SDMVPSU'])[\"BMXBMI\"].quantile(0.25)\n",
    "mbmiiqrratio = mbmiiqr.max() / mbmiiqr.min()\n",
    "print(\"Male:\", mbmiiqrratio)\n",
    "\n",
    "# Get IQR and ratio between largest and smallest IQR for BMI across every combo of SDMVSTRA and SDMVPSU for females\n",
    "fbmiiqr = daf.groupby(['SDMVSTRA','SDMVPSU'])[\"BMXBMI\"].quantile(0.75)\n",
    "fbmiiqr = daf.groupby(['SDMVSTRA','SDMVPSU'])[\"BMXBMI\"].quantile(0.25)\n",
    "fbmiiqrratio = fbmiiqr.max() / fbmiiqr.min()\n",
    "print(\"Female:\", fbmiiqrratio)"
   ]
  },
  {
   "cell_type": "markdown",
   "metadata": {},
   "source": [
    "__Q6c.__ Comment on the extent to which the IQR for age, height, and BMI vary among the MVUs."
   ]
  },
  {
   "cell_type": "raw",
   "metadata": {},
   "source": [
    "1) IQR for BMI varies the least among MVUs\n",
    "2) IQR for age varies the most among MVUs"
   ]
  }
 ],
 "metadata": {
  "kernelspec": {
   "display_name": "Python 3",
   "language": "python",
   "name": "python3"
  },
  "language_info": {
   "codemirror_mode": {
    "name": "ipython",
    "version": 3
   },
   "file_extension": ".py",
   "mimetype": "text/x-python",
   "name": "python",
   "nbconvert_exporter": "python",
   "pygments_lexer": "ipython3",
   "version": "3.8.8"
  }
 },
 "nbformat": 4,
 "nbformat_minor": 2
}
